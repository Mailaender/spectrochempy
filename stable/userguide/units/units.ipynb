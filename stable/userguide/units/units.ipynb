{
 "cells": [
  {
   "cell_type": "code",
   "execution_count": 1,
   "id": "92715ce0",
   "metadata": {
    "execution": {
     "iopub.execute_input": "2021-11-12T15:59:58.992205Z",
     "iopub.status.busy": "2021-11-12T15:59:58.991680Z",
     "iopub.status.idle": "2021-11-12T16:00:00.657353Z",
     "shell.execute_reply": "2021-11-12T16:00:00.657857Z"
    }
   },
   "outputs": [
    {
     "data": {
      "text/html": [
       "\n",
       "    \n",
       "    <table><tr><td>\n",
       "    \n",
       "    <img src='data:image/png;base64,iVBORw0KGgoAAAANSUhEUgAAABgAAAAYCAYAAADgdz34AAAAAXNSR0IArs4c6QAAAAlw\n",
       "    SFlzAAAJOgAACToB8GSSSgAAAetpVFh0WE1MOmNvbS5hZG9iZS54bXAAAAAAADx4OnhtcG1ldGEgeG1sbnM6eD0iYWRvYmU6bnM6\n",
       "    bWV0YS8iIHg6eG1wdGs9IlhNUCBDb3JlIDUuNC4wIj4KICAgPHJkZjpSREYgeG1sbnM6cmRmPSJodHRwOi8vd3d3LnczLm9yZy8x\n",
       "    OTk5LzAyLzIyLXJkZi1zeW50YXgtbnMjIj4KICAgICAgPHJkZjpEZXNjcmlwdGlvbiByZGY6YWJvdXQ9IiIKICAgICAgICAgICAg\n",
       "    eG1sbnM6eG1wPSJodHRwOi8vbnMuYWRvYmUuY29tL3hhcC8xLjAvIgogICAgICAgICAgICB4bWxuczp0aWZmPSJodHRwOi8vbnMu\n",
       "    YWRvYmUuY29tL3RpZmYvMS4wLyI+CiAgICAgICAgIDx4bXA6Q3JlYXRvclRvb2w+bWF0cGxvdGxpYiB2ZXJzaW9uIDIuMS4wLCBo\n",
       "    dHRwOi8vbWF0cGxvdGxpYi5vcmcvPC94bXA6Q3JlYXRvclRvb2w+CiAgICAgICAgIDx0aWZmOk9yaWVudGF0aW9uPjE8L3RpZmY6\n",
       "    T3JpZW50YXRpb24+CiAgICAgIDwvcmRmOkRlc2NyaXB0aW9uPgogICA8L3JkZjpSREY+CjwveDp4bXBtZXRhPgqNQaNYAAAGiUlE\n",
       "    QVRIDY1We4xU1Rn/3XPuYx47u8w+hnU38hTcuoUEt/6D2y4RB0ME1BoEd9taJaKh9CFiN7YGp7appUAMNmktMZFoJTYVLVQ0smsy\n",
       "    26CN0SU1QgsuFAaW3WVmx33N677O6XfuyoIxTXqSO/fec+75fd93vt/3/UbDV0aKSZmCpkFMLz3T9utuu2N+o98aDSMBKVAo89z5\n",
       "    y+zEz3ZafcCOfvWdlGCalqKn1Bf71CygTd+mf1esSOnpdMpTb+vWpTZuWVfe3jLPa5tzHYNm0T5N0gpdkkHaDBeGBU6d1/t/fyS8\n",
       "    +/CbqdfUvmsx1PuMgc2bNxv79u1zgd31r+7JH1jbIZKxWRXAcYUQ8IWvBfBXNjEuJWPgMA02NR7C3/pYT9fjdZ3A9tGrWF8YSJHn\n",
       "    qcDz3y7q2T967PZv+gnYJdd1mEZ+62zGDQV/dQgKhmLzDNOXCEWM3j6eTT5Y3w78dOBKJLR1PQf+4ivPj76UPZnssBN+wbM9Aet/\n",
       "    AV81Mf1EEULXYfOobvX2WWQk0aoioXwwSmirOlioY0mu8BIouzYl7P8GV3vpqCCEZvlFz769w08oLDWvyKIyL1asSm28d6WfzA97\n",
       "    ztvvV1kexUMsmhlkULEkuGYmFYC6AvfUrITnwUKl5K79lkjeSSRRTCTbQPd95e1WzMbZSya74XoXAxctCllCnbECMOjZNGRwvzIX\n",
       "    nD85wbkMmKK+U045Dtdi8Qp+SAxU2GTg2bYlC9224pgvmSb54vkVTBQYyhUt2KjAMyMmPjwRQW5Mh2WKwJhlBh6jVGagFM84wZnQ\n",
       "    4bpC0Rt4pk1PbSt0NDcxDA5xryosDHWgtbM0DGZDWLSoiDMDYeQnGVrmOThxLozB0RAaahzkJzjKNqcIQBymJFMkOlN8Dqjpg0XY\n",
       "    Tx5xO/QbmmUrqIjGJznq47TqTaClKYfjp+PInLMwnOdYvtQBZ2XcunQY+VwIo4U4muoFEjVEFE6lQyEUKzHYfgQG9ylCyngU+Cxj\n",
       "    tOqxCDGHcCsOMCs6iQul5ZiStdATYxjMZXDLTUVwLY8Jey4uOh2IxjwsrP8UXJYxUrkZrghBahzV5iXU6gNkq0Z1EzIsUBUSCV2n\n",
       "    EOHo0LVxHCpuxabJJdhi5PFnvw5vLXwXIfNZvD/+JNo/X40NegE54sUaazl+UL8XD1x+FB9Ijjt4EQfdGN6J/x131LwIV9ap/AYs\n",
       "    0x1fz1ZKFbh6A7qKy/By9Dg6G36Ep91vUJJ15Cqr0Z67E8/HzmBrw1OwxWyM+3Mo6BAuSB17oyfx0Oyl2DN0Hqs/70Cx6hBCvESF\n",
       "    UY1ShWXZZEE7OTAYxZzaPH4TuoiusZvRnunFy2NbiHYuBp2vB66srX4vMEjpRKPxKXmnoQ4+Mn4DPiv8CYcrs3GfNUXJLtM+alSO\n",
       "    hrMj/KT+wBNW3+E/2liywNO3iSflbaFva/+stGDTxE0E9Sjaox8HBhxpEamzMGSEaFKg+mjEddzDh1MxTDq3YV1kGBsjfwW3S9Cq\n",
       "    anjmko+ndlb1UR3s6K8JlfphNWq9Ew/7c61T2BB/EbcaNkb8GBaE0tANH7/M34PLdhJDzjIcL9xPbdTG6zyM72Y+wXPHmvB489No\n",
       "    fm0b5HnbQ9Rgp/7DSSd29AeVvPeNyK6JcYl/yQVi5dBjuGvoV/gaJe47s45QUxrDmcYX0MBsdF7egvXZ7+O0vZA4X8QmOQWjlSK7\n",
       "    RDz5wIM30gp9UbWcGjXxhzdDu1SiNSpx6kcQB57rPnr/3dlkZarWLnlRq5oPET1dOCIOk4wALib9eeS5iygfhkd09H0DWphB/+gs\n",
       "    +PcOAS+ssrFmmXXgVfR0de9cpbAJfH3Q1jofW9DZk56dDcVsq9YcsoUMEd1qyLoT3BX1YiyHMJuk97hyjqIoE91t+NcTLeN0ZrfM\n",
       "    oXatZbu6G0h4VG+ibqq0IJVK6cAjo6serG3vSUezCMct0yQeSOFJSUImqb2qbknUpDqlZxE0QZ+ZUpSlZx79h4Nda6zef9dlk121\n",
       "    JDjbR5XggPRZlRnS6bRQRtLpn4++cuie/Yvn2svmNxuLw9WCcYIl4fEoTEGiSTUqJdfgU+8ROqf1iMkLzS389YtNPXc/PH8l8ONB\n",
       "    JZkHD+4JtD04HmVEDWWErmBhzV2/2LB1bemJG6krzv2S6NOHUgtEP0Oif5pE/3fHoruP7N8RiP61GArzSwbUhJJQpXJKiKbfr/3b\n",
       "    IhKq76sKPUdF9NW/LSqfSn6vjv8C45H/6FSgvZQAAAAASUVORK5CYII='\n",
       "         style='height:25px; border-radius:12px; display:inline-block; float:left; vertical-align:middle'></img>\n",
       "    \n",
       "    </td><td>\n",
       "    \n",
       "    &nbsp;&nbsp;<span style='font-size:12px'>SpectroChemPy's API - v.0.2.17rc0<br/>© Copyright 2014-2021 - A.Travert & C.Fernandez @ LCS</span>\n",
       "    \n",
       "    </td></tr></table>\n",
       "    </div>\n",
       "    "
      ]
     },
     "metadata": {},
     "output_type": "display_data"
    }
   ],
   "source": [
    "\n",
    "import spectrochempy as scp\n",
    "from spectrochempy import ur, Quantity  # to simplify further writting\n",
    "import numpy as np"
   ]
  },
  {
   "cell_type": "markdown",
   "id": "7690f444",
   "metadata": {},
   "source": [
    "# Units & Quantities"
   ]
  },
  {
   "cell_type": "markdown",
   "id": "1819320e",
   "metadata": {},
   "source": [
    "SpectroChemPy can do calculations with units - it uses [pint](https://pint.readthedocs.io) to define and perform\n",
    "operation on data with units.\n",
    "\n",
    "Two objects, `ur` and `Quantity`, allow the manipulation of data with units:\n",
    "\n",
    "* `ur`: stands for **unit registry**, is used to define and handle many type of units as well as making conversion\n",
    " between them.\n",
    "* `Quantity`: is a scalar or an array of scalars with some units."
   ]
  },
  {
   "cell_type": "markdown",
   "id": "7c3fe72a",
   "metadata": {
    "lines_to_next_cell": 0
   },
   "source": [
    "## Units\n",
    "For instance, a unit of speed can be defined as:"
   ]
  },
  {
   "cell_type": "code",
   "execution_count": 2,
   "id": "b3ac9f9a",
   "metadata": {
    "execution": {
     "iopub.execute_input": "2021-11-12T16:00:00.667474Z",
     "iopub.status.busy": "2021-11-12T16:00:00.666089Z",
     "iopub.status.idle": "2021-11-12T16:00:00.669650Z",
     "shell.execute_reply": "2021-11-12T16:00:00.669185Z"
    },
    "lines_to_next_cell": 2
   },
   "outputs": [
    {
     "data": {
      "text/html": [
       "\\[centimeter.second<sup>-1</sup>\\]"
      ],
      "text/latex": [
       "$\\mathrm{cm} \\cdot \\mathrm{s}^{-1}$"
      ],
      "text/plain": [
       "<Unit('centimeter / second')>"
      ]
     },
     "execution_count": 2,
     "metadata": {},
     "output_type": "execute_result"
    }
   ],
   "source": [
    "\n",
    "ur.cm / ur.s"
   ]
  },
  {
   "cell_type": "markdown",
   "id": "3a974b26",
   "metadata": {},
   "source": [
    "## Create quantities\n",
    "\n",
    "to create quantity, use for instance, one of the following expression:"
   ]
  },
  {
   "cell_type": "code",
   "execution_count": 3,
   "id": "83230a60",
   "metadata": {
    "execution": {
     "iopub.execute_input": "2021-11-12T16:00:00.675546Z",
     "iopub.status.busy": "2021-11-12T16:00:00.675036Z",
     "iopub.status.idle": "2021-11-12T16:00:00.677953Z",
     "shell.execute_reply": "2021-11-12T16:00:00.678359Z"
    }
   },
   "outputs": [
    {
     "data": {
      "text/html": [
       "10.0 cm<sup>-1</sup>"
      ],
      "text/latex": [
       "$10.0\\ \\mathrm{cm}^{-1}$"
      ],
      "text/plain": [
       "10.0 <Unit('1 / centimeter')>"
      ]
     },
     "execution_count": 3,
     "metadata": {},
     "output_type": "execute_result"
    }
   ],
   "source": [
    "Quantity(\"10.0 cm^-1\")"
   ]
  },
  {
   "cell_type": "code",
   "execution_count": 4,
   "id": "925a7950",
   "metadata": {
    "execution": {
     "iopub.execute_input": "2021-11-12T16:00:00.684159Z",
     "iopub.status.busy": "2021-11-12T16:00:00.683644Z",
     "iopub.status.idle": "2021-11-12T16:00:00.686399Z",
     "shell.execute_reply": "2021-11-12T16:00:00.686797Z"
    }
   },
   "outputs": [
    {
     "data": {
      "text/html": [
       "1.0 cm<sup>-1</sup>.hr<sup>-1</sup>"
      ],
      "text/latex": [
       "$1.0\\ \\mathrm{cm}^{-1} \\cdot \\mathrm{hr}^{-1}$"
      ],
      "text/plain": [
       "1.0 <Unit('1 / centimeter / hour')>"
      ]
     },
     "execution_count": 4,
     "metadata": {},
     "output_type": "execute_result"
    }
   ],
   "source": [
    "Quantity(1.0, \"cm^-1/hour\")"
   ]
  },
  {
   "cell_type": "code",
   "execution_count": 5,
   "id": "ea6ab400",
   "metadata": {
    "execution": {
     "iopub.execute_input": "2021-11-12T16:00:00.694106Z",
     "iopub.status.busy": "2021-11-12T16:00:00.693225Z",
     "iopub.status.idle": "2021-11-12T16:00:00.696558Z",
     "shell.execute_reply": "2021-11-12T16:00:00.696132Z"
    }
   },
   "outputs": [
    {
     "data": {
      "text/html": [
       "10.0 scaled-dimensionless (1e-05)"
      ],
      "text/latex": [
       "$10.0\\ \\mathrm{scaled-dimensionless (1e-05)}$"
      ],
      "text/plain": [
       "10.0 <Unit('centimeter / kilometer')>"
      ]
     },
     "execution_count": 5,
     "metadata": {},
     "output_type": "execute_result"
    }
   ],
   "source": [
    "Quantity(10.0, ur.cm / ur.km)"
   ]
  },
  {
   "cell_type": "markdown",
   "id": "e8a9134a",
   "metadata": {},
   "source": [
    "or may be (?) simpler,"
   ]
  },
  {
   "cell_type": "code",
   "execution_count": 6,
   "id": "b5a79017",
   "metadata": {
    "execution": {
     "iopub.execute_input": "2021-11-12T16:00:00.702342Z",
     "iopub.status.busy": "2021-11-12T16:00:00.698754Z",
     "iopub.status.idle": "2021-11-12T16:00:00.704719Z",
     "shell.execute_reply": "2021-11-12T16:00:00.705147Z"
    }
   },
   "outputs": [
    {
     "data": {
      "text/html": [
       "10.0 scaled-dimensionless (1e-05)"
      ],
      "text/latex": [
       "$10.0\\ \\mathrm{scaled-dimensionless (1e-05)}$"
      ],
      "text/plain": [
       "10.0 <Unit('centimeter / kilometer')>"
      ]
     },
     "execution_count": 6,
     "metadata": {},
     "output_type": "execute_result"
    }
   ],
   "source": [
    "10.0 * ur.cm / ur.km"
   ]
  },
  {
   "cell_type": "markdown",
   "id": "5c1333cc",
   "metadata": {},
   "source": [
    "## Do arithmetics with units"
   ]
  },
  {
   "cell_type": "code",
   "execution_count": 7,
   "id": "8aa65151",
   "metadata": {
    "execution": {
     "iopub.execute_input": "2021-11-12T16:00:00.710336Z",
     "iopub.status.busy": "2021-11-12T16:00:00.707336Z",
     "iopub.status.idle": "2021-11-12T16:00:00.713203Z",
     "shell.execute_reply": "2021-11-12T16:00:00.712741Z"
    }
   },
   "outputs": [
    {
     "data": {
      "text/html": [
       "200.0 km.hr<sup>-1</sup>"
      ],
      "text/latex": [
       "$200.0\\ \\mathrm{km} \\cdot \\mathrm{hr}^{-1}$"
      ],
      "text/plain": [
       "200.0 <Unit('kilometer / hour')>"
      ]
     },
     "execution_count": 7,
     "metadata": {},
     "output_type": "execute_result"
    }
   ],
   "source": [
    "a = 900 * ur.km\n",
    "b = 4.5 * ur.hours\n",
    "a / b"
   ]
  },
  {
   "cell_type": "markdown",
   "id": "31c7721b",
   "metadata": {},
   "source": [
    "Such calculations can also be done using the following syntax, using a string expression"
   ]
  },
  {
   "cell_type": "code",
   "execution_count": 8,
   "id": "ebe1d559",
   "metadata": {
    "execution": {
     "iopub.execute_input": "2021-11-12T16:00:00.718830Z",
     "iopub.status.busy": "2021-11-12T16:00:00.718337Z",
     "iopub.status.idle": "2021-11-12T16:00:00.723232Z",
     "shell.execute_reply": "2021-11-12T16:00:00.723645Z"
    }
   },
   "outputs": [
    {
     "data": {
      "text/html": [
       "200.0 km.hr<sup>-1</sup>"
      ],
      "text/latex": [
       "$200.0\\ \\mathrm{km} \\cdot \\mathrm{hr}^{-1}$"
      ],
      "text/plain": [
       "200.0 <Unit('kilometer / hour')>"
      ]
     },
     "execution_count": 8,
     "metadata": {},
     "output_type": "execute_result"
    }
   ],
   "source": [
    "Quantity(\"900 km / (4.5 hours)\")"
   ]
  },
  {
   "cell_type": "markdown",
   "id": "677b3c15",
   "metadata": {},
   "source": [
    "## Conversion between units"
   ]
  },
  {
   "cell_type": "code",
   "execution_count": 9,
   "id": "c514a765",
   "metadata": {
    "execution": {
     "iopub.execute_input": "2021-11-12T16:00:00.728488Z",
     "iopub.status.busy": "2021-11-12T16:00:00.727994Z",
     "iopub.status.idle": "2021-11-12T16:00:00.731062Z",
     "shell.execute_reply": "2021-11-12T16:00:00.730621Z"
    },
    "lines_to_next_cell": 2
   },
   "outputs": [],
   "source": [
    "c = a / b\n",
    "d = c.to(\"cm/s\")"
   ]
  },
  {
   "cell_type": "markdown",
   "id": "9181836f",
   "metadata": {},
   "source": [
    "As shown below `to()` has generated a new variable and does not affect the initial one:"
   ]
  },
  {
   "cell_type": "code",
   "execution_count": 10,
   "id": "02e18e10",
   "metadata": {
    "execution": {
     "iopub.execute_input": "2021-11-12T16:00:00.735951Z",
     "iopub.status.busy": "2021-11-12T16:00:00.734712Z",
     "iopub.status.idle": "2021-11-12T16:00:00.739772Z",
     "shell.execute_reply": "2021-11-12T16:00:00.739339Z"
    }
   },
   "outputs": [
    {
     "name": "stdout",
     "output_type": "stream",
     "text": [
      "initial quantity: c = 200.0 kilometer / hour\n",
      "converted quantity: d = 5555.555555555556 centimeter / second\n"
     ]
    }
   ],
   "source": [
    "print(f\"initial quantity: c = {c}\")\n",
    "print(f\"converted quantity: d = {d}\")"
   ]
  },
  {
   "cell_type": "markdown",
   "id": "9e2baa90",
   "metadata": {},
   "source": [
    "We can make the conversion *inplace* using `ito()` instead of `to()`:"
   ]
  },
  {
   "cell_type": "code",
   "execution_count": 11,
   "id": "184ea663",
   "metadata": {
    "execution": {
     "iopub.execute_input": "2021-11-12T16:00:00.744290Z",
     "iopub.status.busy": "2021-11-12T16:00:00.743797Z",
     "iopub.status.idle": "2021-11-12T16:00:00.748974Z",
     "shell.execute_reply": "2021-11-12T16:00:00.748529Z"
    }
   },
   "outputs": [
    {
     "name": "stdout",
     "output_type": "stream",
     "text": [
      "converted quantity: c = 55.55555555555556 meter / second\n"
     ]
    }
   ],
   "source": [
    "c.ito(\"m/s\")\n",
    "print(f\"converted quantity: c = {c}\")"
   ]
  },
  {
   "cell_type": "markdown",
   "id": "c2388ad3",
   "metadata": {},
   "source": [
    "## Do math operations with consistent units\n",
    "The units are transformed consistently in maths operations:"
   ]
  },
  {
   "cell_type": "code",
   "execution_count": 12,
   "id": "6e571061",
   "metadata": {
    "execution": {
     "iopub.execute_input": "2021-11-12T16:00:00.755057Z",
     "iopub.status.busy": "2021-11-12T16:00:00.754546Z",
     "iopub.status.idle": "2021-11-12T16:00:00.757348Z",
     "shell.execute_reply": "2021-11-12T16:00:00.757752Z"
    }
   },
   "outputs": [
    {
     "data": {
      "text/html": [
       "3.1622776601683795 m<sup>0.5</sup>"
      ],
      "text/latex": [
       "$3.1622776601683795\\ \\mathrm{m}^{0.5}$"
      ],
      "text/plain": [
       "3.1622776601683795 <Unit('meter ** 0.5')>"
      ]
     },
     "execution_count": 12,
     "metadata": {},
     "output_type": "execute_result"
    }
   ],
   "source": [
    "x = 10 * ur.meters\n",
    "np.sqrt(x)"
   ]
  },
  {
   "cell_type": "code",
   "execution_count": 13,
   "id": "7f013a8e",
   "metadata": {
    "execution": {
     "iopub.execute_input": "2021-11-12T16:00:00.763634Z",
     "iopub.status.busy": "2021-11-12T16:00:00.763118Z",
     "iopub.status.idle": "2021-11-12T16:00:00.765929Z",
     "shell.execute_reply": "2021-11-12T16:00:00.766331Z"
    }
   },
   "outputs": [
    {
     "data": {
      "text/html": [
       "-0.5440211108893698 "
      ],
      "text/latex": [
       "$-0.5440211108893698\\ \\mathrm{}$"
      ],
      "text/plain": [
       "-0.5440211108893698 <Unit('dimensionless')>"
      ]
     },
     "execution_count": 13,
     "metadata": {},
     "output_type": "execute_result"
    }
   ],
   "source": [
    "x = 10 * ur.radians\n",
    "np.sin(x)"
   ]
  },
  {
   "cell_type": "markdown",
   "id": "7e70a7e6",
   "metadata": {},
   "source": [
    "Consistency of the units are checked and errors are generated if quantities have not appropriate units\n",
    "with the math operation..."
   ]
  },
  {
   "cell_type": "code",
   "execution_count": 14,
   "id": "75d4acb3",
   "metadata": {
    "execution": {
     "iopub.execute_input": "2021-11-12T16:00:00.772075Z",
     "iopub.status.busy": "2021-11-12T16:00:00.771554Z",
     "iopub.status.idle": "2021-11-12T16:00:00.774268Z",
     "shell.execute_reply": "2021-11-12T16:00:00.774675Z"
    }
   },
   "outputs": [
    {
     "name": "stderr",
     "output_type": "stream",
     "text": [
      " ERROR | DimensionalityError: Cannot convert from 'meter' ([length]) to 'radian' (dimensionless)\n"
     ]
    }
   ],
   "source": [
    "x = 10 * ur.meters\n",
    "try:\n",
    "    np.cos(x)\n",
    "except scp.DimensionalityError as e:  # catch the error\n",
    "    scp.error_(e)  # generate the error message (see API configuration)\n",
    "\n",
    "# Consistency of the units are checked and errors are generated if quantities have not appropriate units\n",
    "# with the math operation..."
   ]
  },
  {
   "cell_type": "markdown",
   "id": "007c83ca",
   "metadata": {},
   "source": [
    "## Stripping the units\n",
    "\n",
    "If for any reason - including quick and dirty checks -  unitless numbers are needed, the `magnitude` field can be used:"
   ]
  },
  {
   "cell_type": "code",
   "execution_count": 15,
   "id": "41025c62",
   "metadata": {
    "execution": {
     "iopub.execute_input": "2021-11-12T16:00:00.779709Z",
     "iopub.status.busy": "2021-11-12T16:00:00.776806Z",
     "iopub.status.idle": "2021-11-12T16:00:00.781959Z",
     "shell.execute_reply": "2021-11-12T16:00:00.782370Z"
    }
   },
   "outputs": [
    {
     "data": {
      "text/plain": [
       "-0.8390715290764524"
      ]
     },
     "execution_count": 15,
     "metadata": {},
     "output_type": "execute_result"
    }
   ],
   "source": [
    "x = 10 * ur.meters\n",
    "np.cos(x.magnitude)"
   ]
  },
  {
   "cell_type": "markdown",
   "id": "f9e542d6",
   "metadata": {},
   "source": [
    "Units can be set for NDDataset data and/or Coordinates"
   ]
  },
  {
   "cell_type": "code",
   "execution_count": 16,
   "id": "b6d6735c",
   "metadata": {
    "execution": {
     "iopub.execute_input": "2021-11-12T16:00:00.790183Z",
     "iopub.status.busy": "2021-11-12T16:00:00.784627Z",
     "iopub.status.idle": "2021-11-12T16:00:00.812121Z",
     "shell.execute_reply": "2021-11-12T16:00:00.811693Z"
    }
   },
   "outputs": [
    {
     "data": {
      "text/html": [
       "<table style='background:transparent'>\n",
       "<tr><td style='padding-right:5px; padding-bottom:0px; padding-top:0px; width:124px'><font color='green'>         name</font> </td><td style='text-align:left; padding-bottom:0px; padding-top:0px; border:.5px solid lightgray;  '> NDDataset_9756d2b9</td><tr>\n",
       "<tr><td style='padding-right:5px; padding-bottom:0px; padding-top:0px; width:124px'><font color='green'>       author</font> </td><td style='text-align:left; padding-bottom:0px; padding-top:0px; border:.5px solid lightgray;  '> runner@fv-az191-706</td><tr>\n",
       "<tr><td style='padding-right:5px; padding-bottom:0px; padding-top:0px; width:124px'><font color='green'>      created</font> </td><td style='text-align:left; padding-bottom:0px; padding-top:0px; border:.5px solid lightgray;  '> 2021-11-12 16:00:00.785964+00:00</td><tr>\n",
       "<tr><td style='padding-right:5px; padding-bottom:0px; padding-top:0px; width:124px'><strong>          DATA </strong></td><td style='text-align:left; padding-bottom:0px; padding-top:0px; padding-top:10px; '><hr/></td><tr>\n",
       "<tr><td style='padding-right:5px; padding-bottom:0px; padding-top:0px; width:124px'><font color='green'>        title</font> </td><td style='text-align:left; padding-bottom:0px; padding-top:0px; border:.5px solid lightgray;  '> concentration</td><tr>\n",
       "<tr><td style='padding-right:5px; padding-bottom:0px; padding-top:0px; width:124px'><font color='green'>       values</font> </td><td style='text-align:left; padding-bottom:0px; padding-top:0px; border:.5px solid lightgray;  '> <div><font color='blue'>         [       1        2        3] g.cm^-3</font></div></td><tr>\n",
       "<tr><td style='padding-right:5px; padding-bottom:0px; padding-top:0px; width:124px'><font color='green'>         size</font> </td><td style='text-align:left; padding-bottom:0px; padding-top:0px; border:.5px solid lightgray;  '> 3</td><tr>\n",
       "</table>"
      ],
      "text/plain": [
       "NDDataset: [float64] g.cm^-3 (size: 3)"
      ]
     },
     "execution_count": 16,
     "metadata": {},
     "output_type": "execute_result"
    }
   ],
   "source": [
    "ds = scp.NDDataset([1.0, 2.0, 3.0], units=\"g/cm^3\", title=\"concentration\")\n",
    "ds"
   ]
  },
  {
   "cell_type": "code",
   "execution_count": 17,
   "id": "04a29624",
   "metadata": {
    "execution": {
     "iopub.execute_input": "2021-11-12T16:00:00.824180Z",
     "iopub.status.busy": "2021-11-12T16:00:00.823664Z",
     "iopub.status.idle": "2021-11-12T16:00:00.827564Z",
     "shell.execute_reply": "2021-11-12T16:00:00.827966Z"
    }
   },
   "outputs": [
    {
     "data": {
      "text/html": [
       "<table style='background:transparent'>\n",
       "<tr><td style='padding-right:5px; padding-bottom:0px; padding-top:0px; width:124px'><font color='green'>         name</font> </td><td style='text-align:left; padding-bottom:0px; padding-top:0px; border:.5px solid lightgray;  '> NDDataset_975aa9b8</td><tr>\n",
       "<tr><td style='padding-right:5px; padding-bottom:0px; padding-top:0px; width:124px'><font color='green'>       author</font> </td><td style='text-align:left; padding-bottom:0px; padding-top:0px; border:.5px solid lightgray;  '> runner@fv-az191-706</td><tr>\n",
       "<tr><td style='padding-right:5px; padding-bottom:0px; padding-top:0px; width:124px'><font color='green'>      created</font> </td><td style='text-align:left; padding-bottom:0px; padding-top:0px; border:.5px solid lightgray;  '> 2021-11-12 16:00:00.785964+00:00</td><tr>\n",
       "<tr><td style='padding-right:5px; padding-bottom:0px; padding-top:0px; width:124px'><strong>          DATA </strong></td><td style='text-align:left; padding-bottom:0px; padding-top:0px; padding-top:10px; '><hr/></td><tr>\n",
       "<tr><td style='padding-right:5px; padding-bottom:0px; padding-top:0px; width:124px'><font color='green'>        title</font> </td><td style='text-align:left; padding-bottom:0px; padding-top:0px; border:.5px solid lightgray;  '> concentration</td><tr>\n",
       "<tr><td style='padding-right:5px; padding-bottom:0px; padding-top:0px; width:124px'><font color='green'>       values</font> </td><td style='text-align:left; padding-bottom:0px; padding-top:0px; border:.5px solid lightgray;  '> <div><font color='blue'>         [    1000     2000     3000] kg.m^-3</font></div></td><tr>\n",
       "<tr><td style='padding-right:5px; padding-bottom:0px; padding-top:0px; width:124px'><font color='green'>         size</font> </td><td style='text-align:left; padding-bottom:0px; padding-top:0px; border:.5px solid lightgray;  '> 3</td><tr>\n",
       "</table>"
      ],
      "text/plain": [
       "NDDataset: [float64] kg.m^-3 (size: 3)"
      ]
     },
     "execution_count": 17,
     "metadata": {},
     "output_type": "execute_result"
    }
   ],
   "source": [
    "ds.to(\"kg/m^3\")"
   ]
  },
  {
   "cell_type": "markdown",
   "id": "6e8c05af",
   "metadata": {},
   "source": [
    "One can do transparent calculation using the units"
   ]
  },
  {
   "cell_type": "code",
   "execution_count": 18,
   "id": "606047b2",
   "metadata": {
    "execution": {
     "iopub.execute_input": "2021-11-12T16:00:00.840605Z",
     "iopub.status.busy": "2021-11-12T16:00:00.839691Z",
     "iopub.status.idle": "2021-11-12T16:00:00.842680Z",
     "shell.execute_reply": "2021-11-12T16:00:00.843057Z"
    }
   },
   "outputs": [
    {
     "data": {
      "text/html": [
       "<table style='background:transparent'>\n",
       "<tr><td style='padding-right:5px; padding-bottom:0px; padding-top:0px; width:124px'><font color='green'>         name</font> </td><td style='text-align:left; padding-bottom:0px; padding-top:0px; border:.5px solid lightgray;  '> NDDataset_975d580f</td><tr>\n",
       "<tr><td style='padding-right:5px; padding-bottom:0px; padding-top:0px; width:124px'><font color='green'>       author</font> </td><td style='text-align:left; padding-bottom:0px; padding-top:0px; border:.5px solid lightgray;  '> runner@fv-az191-706</td><tr>\n",
       "<tr><td style='padding-right:5px; padding-bottom:0px; padding-top:0px; width:124px'><font color='green'>      created</font> </td><td style='text-align:left; padding-bottom:0px; padding-top:0px; border:.5px solid lightgray;  '> 2021-11-12 16:00:00.785964+00:00</td><tr>\n",
       "<tr><td style='padding-right:5px; padding-bottom:0px; padding-top:0px; width:124px'><font color='green'>      history</font> </td><td style='text-align:left; padding-bottom:0px; padding-top:0px; border:.5px solid lightgray;  '> <div>Binary operation mul with `2 meter ** 3` has been performed</div></td><tr>\n",
       "<tr><td style='padding-right:5px; padding-bottom:0px; padding-top:0px; width:124px'><strong>          DATA </strong></td><td style='text-align:left; padding-bottom:0px; padding-top:0px; padding-top:10px; '><hr/></td><tr>\n",
       "<tr><td style='padding-right:5px; padding-bottom:0px; padding-top:0px; width:124px'><font color='green'>        title</font> </td><td style='text-align:left; padding-bottom:0px; padding-top:0px; border:.5px solid lightgray;  '> concentration</td><tr>\n",
       "<tr><td style='padding-right:5px; padding-bottom:0px; padding-top:0px; width:124px'><font color='green'>       values</font> </td><td style='text-align:left; padding-bottom:0px; padding-top:0px; border:.5px solid lightgray;  '> <div><font color='blue'>         [       2        4        6] g.m^3.cm^-3</font></div></td><tr>\n",
       "<tr><td style='padding-right:5px; padding-bottom:0px; padding-top:0px; width:124px'><font color='green'>         size</font> </td><td style='text-align:left; padding-bottom:0px; padding-top:0px; border:.5px solid lightgray;  '> 3</td><tr>\n",
       "</table>"
      ],
      "text/plain": [
       "NDDataset: [float64] g.m^3.cm^-3 (size: 3)"
      ]
     },
     "execution_count": 18,
     "metadata": {},
     "output_type": "execute_result"
    }
   ],
   "source": [
    "volume = Quantity(\"2 m^3\")\n",
    "ds1 = ds * volume\n",
    "ds1"
   ]
  },
  {
   "cell_type": "code",
   "execution_count": 19,
   "id": "0b6f142d",
   "metadata": {
    "execution": {
     "iopub.execute_input": "2021-11-12T16:00:00.856965Z",
     "iopub.status.busy": "2021-11-12T16:00:00.856009Z",
     "iopub.status.idle": "2021-11-12T16:00:00.859402Z",
     "shell.execute_reply": "2021-11-12T16:00:00.858965Z"
    }
   },
   "outputs": [
    {
     "data": {
      "text/html": [
       "<table style='background:transparent'>\n",
       "<tr><td style='padding-right:5px; padding-bottom:0px; padding-top:0px; width:124px'><font color='green'>         name</font> </td><td style='text-align:left; padding-bottom:0px; padding-top:0px; border:.5px solid lightgray;  '> NDDataset_975fda97</td><tr>\n",
       "<tr><td style='padding-right:5px; padding-bottom:0px; padding-top:0px; width:124px'><font color='green'>       author</font> </td><td style='text-align:left; padding-bottom:0px; padding-top:0px; border:.5px solid lightgray;  '> runner@fv-az191-706</td><tr>\n",
       "<tr><td style='padding-right:5px; padding-bottom:0px; padding-top:0px; width:124px'><font color='green'>      created</font> </td><td style='text-align:left; padding-bottom:0px; padding-top:0px; border:.5px solid lightgray;  '> 2021-11-12 16:00:00.785964+00:00</td><tr>\n",
       "<tr><td style='padding-right:5px; padding-bottom:0px; padding-top:0px; width:124px'><font color='green'>      history</font> </td><td style='text-align:left; padding-bottom:0px; padding-top:0px; border:.5px solid lightgray;  '> <div>Binary operation mul with `2 meter ** 3` has been performed<br/>               Binary operation truediv with `NDDataset_9756d2b9` has been performed</div></td><tr>\n",
       "<tr><td style='padding-right:5px; padding-bottom:0px; padding-top:0px; width:124px'><strong>          DATA </strong></td><td style='text-align:left; padding-bottom:0px; padding-top:0px; padding-top:10px; '><hr/></td><tr>\n",
       "<tr><td style='padding-right:5px; padding-bottom:0px; padding-top:0px; width:124px'><font color='green'>        title</font> </td><td style='text-align:left; padding-bottom:0px; padding-top:0px; border:.5px solid lightgray;  '> concentration</td><tr>\n",
       "<tr><td style='padding-right:5px; padding-bottom:0px; padding-top:0px; width:124px'><font color='green'>       values</font> </td><td style='text-align:left; padding-bottom:0px; padding-top:0px; border:.5px solid lightgray;  '> <div><font color='blue'>         [       2        2        2] m^3</font></div></td><tr>\n",
       "<tr><td style='padding-right:5px; padding-bottom:0px; padding-top:0px; width:124px'><font color='green'>         size</font> </td><td style='text-align:left; padding-bottom:0px; padding-top:0px; border:.5px solid lightgray;  '> 3</td><tr>\n",
       "</table>"
      ],
      "text/plain": [
       "NDDataset: [float64] m^3 (size: 3)"
      ]
     },
     "execution_count": 19,
     "metadata": {},
     "output_type": "execute_result"
    }
   ],
   "source": [
    "ds1 / ds"
   ]
  }
 ],
 "metadata": {
  "jupytext": {
   "formats": "ipynb,py:percent",
   "notebook_metadata_filter": "all"
  },
  "kernelspec": {
   "display_name": "Python 3",
   "language": "python",
   "name": "python3"
  },
  "language_info": {
   "codemirror_mode": {
    "name": "ipython",
    "version": 3
   },
   "file_extension": ".py",
   "mimetype": "text/x-python",
   "name": "python",
   "nbconvert_exporter": "python",
   "pygments_lexer": "ipython3",
   "version": "3.9.7"
  }
 },
 "nbformat": 4,
 "nbformat_minor": 5
}
