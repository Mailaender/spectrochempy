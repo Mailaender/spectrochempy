{
 "cells": [
  {
   "cell_type": "markdown",
   "id": "128522bf",
   "metadata": {},
   "source": [
    "# Import Data\n",
    "\n",
    "This tutorial shows how to import data in **SpectroChemPy (SCPy)**.\n",
    "\n",
    "First, let's ``import spectrochempy as scp`` in the current\n",
    "namespace, so that all spectrochempy commands will be called as ```scp.method(<method parameters>)```."
   ]
  },
  {
   "cell_type": "code",
   "execution_count": 1,
   "id": "5a215beb",
   "metadata": {
    "execution": {
     "iopub.execute_input": "2021-11-12T15:55:14.147420Z",
     "iopub.status.busy": "2021-11-12T15:55:14.146816Z",
     "iopub.status.idle": "2021-11-12T15:55:16.274513Z",
     "shell.execute_reply": "2021-11-12T15:55:16.274931Z"
    }
   },
   "outputs": [
    {
     "data": {
      "text/html": [
       "\n",
       "    \n",
       "    <table><tr><td>\n",
       "    \n",
       "    <img src='data:image/png;base64,iVBORw0KGgoAAAANSUhEUgAAABgAAAAYCAYAAADgdz34AAAAAXNSR0IArs4c6QAAAAlw\n",
       "    SFlzAAAJOgAACToB8GSSSgAAAetpVFh0WE1MOmNvbS5hZG9iZS54bXAAAAAAADx4OnhtcG1ldGEgeG1sbnM6eD0iYWRvYmU6bnM6\n",
       "    bWV0YS8iIHg6eG1wdGs9IlhNUCBDb3JlIDUuNC4wIj4KICAgPHJkZjpSREYgeG1sbnM6cmRmPSJodHRwOi8vd3d3LnczLm9yZy8x\n",
       "    OTk5LzAyLzIyLXJkZi1zeW50YXgtbnMjIj4KICAgICAgPHJkZjpEZXNjcmlwdGlvbiByZGY6YWJvdXQ9IiIKICAgICAgICAgICAg\n",
       "    eG1sbnM6eG1wPSJodHRwOi8vbnMuYWRvYmUuY29tL3hhcC8xLjAvIgogICAgICAgICAgICB4bWxuczp0aWZmPSJodHRwOi8vbnMu\n",
       "    YWRvYmUuY29tL3RpZmYvMS4wLyI+CiAgICAgICAgIDx4bXA6Q3JlYXRvclRvb2w+bWF0cGxvdGxpYiB2ZXJzaW9uIDIuMS4wLCBo\n",
       "    dHRwOi8vbWF0cGxvdGxpYi5vcmcvPC94bXA6Q3JlYXRvclRvb2w+CiAgICAgICAgIDx0aWZmOk9yaWVudGF0aW9uPjE8L3RpZmY6\n",
       "    T3JpZW50YXRpb24+CiAgICAgIDwvcmRmOkRlc2NyaXB0aW9uPgogICA8L3JkZjpSREY+CjwveDp4bXBtZXRhPgqNQaNYAAAGiUlE\n",
       "    QVRIDY1We4xU1Rn/3XPuYx47u8w+hnU38hTcuoUEt/6D2y4RB0ME1BoEd9taJaKh9CFiN7YGp7appUAMNmktMZFoJTYVLVQ0smsy\n",
       "    26CN0SU1QgsuFAaW3WVmx33N677O6XfuyoIxTXqSO/fec+75fd93vt/3/UbDV0aKSZmCpkFMLz3T9utuu2N+o98aDSMBKVAo89z5\n",
       "    y+zEz3ZafcCOfvWdlGCalqKn1Bf71CygTd+mf1esSOnpdMpTb+vWpTZuWVfe3jLPa5tzHYNm0T5N0gpdkkHaDBeGBU6d1/t/fyS8\n",
       "    +/CbqdfUvmsx1PuMgc2bNxv79u1zgd31r+7JH1jbIZKxWRXAcYUQ8IWvBfBXNjEuJWPgMA02NR7C3/pYT9fjdZ3A9tGrWF8YSJHn\n",
       "    qcDz3y7q2T967PZv+gnYJdd1mEZ+62zGDQV/dQgKhmLzDNOXCEWM3j6eTT5Y3w78dOBKJLR1PQf+4ivPj76UPZnssBN+wbM9Aet/\n",
       "    AV81Mf1EEULXYfOobvX2WWQk0aoioXwwSmirOlioY0mu8BIouzYl7P8GV3vpqCCEZvlFz769w08oLDWvyKIyL1asSm28d6WfzA97\n",
       "    ztvvV1kexUMsmhlkULEkuGYmFYC6AvfUrITnwUKl5K79lkjeSSRRTCTbQPd95e1WzMbZSya74XoXAxctCllCnbECMOjZNGRwvzIX\n",
       "    nD85wbkMmKK+U045Dtdi8Qp+SAxU2GTg2bYlC9224pgvmSb54vkVTBQYyhUt2KjAMyMmPjwRQW5Mh2WKwJhlBh6jVGagFM84wZnQ\n",
       "    4bpC0Rt4pk1PbSt0NDcxDA5xryosDHWgtbM0DGZDWLSoiDMDYeQnGVrmOThxLozB0RAaahzkJzjKNqcIQBymJFMkOlN8Dqjpg0XY\n",
       "    Tx5xO/QbmmUrqIjGJznq47TqTaClKYfjp+PInLMwnOdYvtQBZ2XcunQY+VwIo4U4muoFEjVEFE6lQyEUKzHYfgQG9ylCyngU+Cxj\n",
       "    tOqxCDGHcCsOMCs6iQul5ZiStdATYxjMZXDLTUVwLY8Jey4uOh2IxjwsrP8UXJYxUrkZrghBahzV5iXU6gNkq0Z1EzIsUBUSCV2n\n",
       "    EOHo0LVxHCpuxabJJdhi5PFnvw5vLXwXIfNZvD/+JNo/X40NegE54sUaazl+UL8XD1x+FB9Ijjt4EQfdGN6J/x131LwIV9ap/AYs\n",
       "    0x1fz1ZKFbh6A7qKy/By9Dg6G36Ep91vUJJ15Cqr0Z67E8/HzmBrw1OwxWyM+3Mo6BAuSB17oyfx0Oyl2DN0Hqs/70Cx6hBCvESF\n",
       "    UY1ShWXZZEE7OTAYxZzaPH4TuoiusZvRnunFy2NbiHYuBp2vB66srX4vMEjpRKPxKXmnoQ4+Mn4DPiv8CYcrs3GfNUXJLtM+alSO\n",
       "    hrMj/KT+wBNW3+E/2liywNO3iSflbaFva/+stGDTxE0E9Sjaox8HBhxpEamzMGSEaFKg+mjEddzDh1MxTDq3YV1kGBsjfwW3S9Cq\n",
       "    anjmko+ndlb1UR3s6K8JlfphNWq9Ew/7c61T2BB/EbcaNkb8GBaE0tANH7/M34PLdhJDzjIcL9xPbdTG6zyM72Y+wXPHmvB489No\n",
       "    fm0b5HnbQ9Rgp/7DSSd29AeVvPeNyK6JcYl/yQVi5dBjuGvoV/gaJe47s45QUxrDmcYX0MBsdF7egvXZ7+O0vZA4X8QmOQWjlSK7\n",
       "    RDz5wIM30gp9UbWcGjXxhzdDu1SiNSpx6kcQB57rPnr/3dlkZarWLnlRq5oPET1dOCIOk4wALib9eeS5iygfhkd09H0DWphB/+gs\n",
       "    +PcOAS+ssrFmmXXgVfR0de9cpbAJfH3Q1jofW9DZk56dDcVsq9YcsoUMEd1qyLoT3BX1YiyHMJuk97hyjqIoE91t+NcTLeN0ZrfM\n",
       "    oXatZbu6G0h4VG+ibqq0IJVK6cAjo6serG3vSUezCMct0yQeSOFJSUImqb2qbknUpDqlZxE0QZ+ZUpSlZx79h4Nda6zef9dlk121\n",
       "    JDjbR5XggPRZlRnS6bRQRtLpn4++cuie/Yvn2svmNxuLw9WCcYIl4fEoTEGiSTUqJdfgU+8ROqf1iMkLzS389YtNPXc/PH8l8ONB\n",
       "    JZkHD+4JtD04HmVEDWWErmBhzV2/2LB1bemJG6krzv2S6NOHUgtEP0Oif5pE/3fHoruP7N8RiP61GArzSwbUhJJQpXJKiKbfr/3b\n",
       "    IhKq76sKPUdF9NW/LSqfSn6vjv8C45H/6FSgvZQAAAAASUVORK5CYII='\n",
       "         style='height:25px; border-radius:12px; display:inline-block; float:left; vertical-align:middle'></img>\n",
       "    \n",
       "    </td><td>\n",
       "    \n",
       "    &nbsp;&nbsp;<span style='font-size:12px'>SpectroChemPy's API - v.0.2.17rc0<br/>© Copyright 2014-2021 - A.Travert & C.Fernandez @ LCS</span>\n",
       "    \n",
       "    </td></tr></table>\n",
       "    </div>\n",
       "    "
      ]
     },
     "metadata": {},
     "output_type": "display_data"
    }
   ],
   "source": [
    "import spectrochempy as scp"
   ]
  },
  {
   "cell_type": "markdown",
   "id": "3939380a",
   "metadata": {},
   "source": [
    "## Dialog boxes\n",
    "\n",
    "Retrieving Files and Directories, in day-to-day work is often made through Dialog Boxes. While we do not recommend\n",
    "this procedure for advanced usage (see below), it is quite easy to do that with SCPy. To do so, we can use the\n",
    "`read` function which open a dialog, allowing the selection of data file form various origin. By default,\n",
    "the native SCPy type of data is proposed (file suffix: `.scp`). The desired type of files to display can be choosen\n",
    "in a dropdown field."
   ]
  },
  {
   "cell_type": "code",
   "execution_count": 2,
   "id": "bb4bd0b1",
   "metadata": {
    "execution": {
     "iopub.execute_input": "2021-11-12T15:55:16.279600Z",
     "iopub.status.busy": "2021-11-12T15:55:16.279056Z",
     "iopub.status.idle": "2021-11-12T15:55:16.282335Z",
     "shell.execute_reply": "2021-11-12T15:55:16.281924Z"
    }
   },
   "outputs": [],
   "source": [
    "X = scp.read()"
   ]
  },
  {
   "cell_type": "markdown",
   "id": "63013a19",
   "metadata": {},
   "source": [
    "The dialog box such as shown in this image:\n",
    "\n",
    "<center><img id='drawings' width='600px'  src='./images/read.png'></img></center>\n",
    "\n",
    "The dialog Box allows selecting the file which data will be loaded in the variable `X`. Try for instance to run the\n",
    "cell below, and select an omnic spg datafile (select the .spg extension), which you can find in the `irdata`\n",
    "directory.\n",
    "\n",
    "<div class='alert alert-warning'>\n",
    "<b>Tip</b>\n",
    "\n",
    "the dialog box does not necessarily pops up in the foreground: check your task bar !\n",
    "</div>\n",
    "\n",
    "Printing the returned NDDataset object X should read like this, with indication of the dataset `shape`, *i.e.,\n",
    "* the `y` and  `x` dimension sizes:"
   ]
  },
  {
   "cell_type": "code",
   "execution_count": 3,
   "id": "c9a1fb6b",
   "metadata": {
    "execution": {
     "iopub.execute_input": "2021-11-12T15:55:16.287253Z",
     "iopub.status.busy": "2021-11-12T15:55:16.286068Z",
     "iopub.status.idle": "2021-11-12T15:55:16.289226Z",
     "shell.execute_reply": "2021-11-12T15:55:16.288752Z"
    }
   },
   "outputs": [
    {
     "name": "stdout",
     "output_type": "stream",
     "text": [
      "None\n"
     ]
    }
   ],
   "source": [
    "print(X)"
   ]
  },
  {
   "cell_type": "markdown",
   "id": "efafdb76",
   "metadata": {},
   "source": [
    "The size of the `y` and `x` dimension will depend, of course, of the file that you have selected ! If you did not\n",
    "select any file (*e.g.,* by pressing 'cancel' in th Dialog Box, the result will be `None`, as nothing has been loaded\n",
    "in `X`.\n",
    "\n",
    "<div class='alert alert-info'>\n",
    "<b>Note</b>\n",
    "\n",
    "By default the Dialog Box opens in the last directory you have used. However if a directory path is specified,\n",
    "the dialog should open from this diectory.\n",
    "</div>"
   ]
  },
  {
   "cell_type": "code",
   "execution_count": 4,
   "id": "120999b1",
   "metadata": {
    "execution": {
     "iopub.execute_input": "2021-11-12T15:55:16.294154Z",
     "iopub.status.busy": "2021-11-12T15:55:16.293665Z",
     "iopub.status.idle": "2021-11-12T15:55:17.139532Z",
     "shell.execute_reply": "2021-11-12T15:55:17.139941Z"
    },
    "lines_to_next_cell": 0
   },
   "outputs": [
    {
     "name": "stderr",
     "output_type": "stream",
     "text": [
      " WARNING | The file `/usr/share/miniconda/envs/scpy3.9/share/spectrochempy_data/testdata/irdata/subdir/TGAIR-unreadable.srs` has a known extension but it could not be read. It is ignored!\n"
     ]
    },
    {
     "name": "stdout",
     "output_type": "stream",
     "text": [
      "NDDataset: [float64] a.u. (shape: (y:4, x:5549))\n"
     ]
    }
   ],
   "source": [
    "X = scp.read_omnic(\"irdata/subdir\")\n",
    "print(X)"
   ]
  },
  {
   "cell_type": "markdown",
   "id": "8fc72880",
   "metadata": {},
   "source": [
    "See below for more information\n",
    "\n",
    "- At the time of writing this tutorial (SpectroChemPy v.0.1.23), the following commands will behave similarly:\n",
    "    - `read` to open any kind of recognised data files based on the file suffix (e.g., *.spg, etc...)\n",
    "    - `read_omnic` to open omnic (spa and spg) files\n",
    "    - `read_opus` to open Bruker Opus (*.0, ...) files\n",
    "    - `read_labspec` to open LABSPEC6 files - this assume they have been exported as *.txt files\n",
    "    - `read_topspin` to open Bruker Topspin NMR files\n",
    "    - `read_csv` to open csv files\n",
    "    - `read_jcamp` to open an IR JCAMP-DX datafile\n",
    "    - `read_matlab` to open MATLAB (.mat) files including Eingenvector's Dataset objects\n",
    "\n",
    "\n",
    "- Additionaly\n",
    "    - `read_dir` to open readable files in a directory\n",
    "\n",
    "\n",
    "- The list of readers available will hopefully increase in future **SCPy** releases:-)\n",
    "\n",
    "If successful, the output of the above cell should read something like\n",
    "\n",
    "    Out[2] NDDataset: [float64] a.u. (shape: (y:4, x:5549))"
   ]
  },
  {
   "cell_type": "markdown",
   "id": "933e9d05",
   "metadata": {},
   "source": [
    "## Import with explicit directory or file pathnames\n",
    "\n",
    "While the use of Dialog Box seems at first 'user-friendly', you will probably experience that this is often **NOT**\n",
    "efficient because you will have to select the file *each time* the notebook (or the script) is run... Hence, the\n",
    "above commands can be used with the indication of the path to a directory, and/or to a filename.\n",
    "\n",
    "If only a directory is indicated, the dialog box will open in this directory.\n",
    "\n",
    "Note that on Windows the path separator is a backslash `\\`. However, in many contexts,\n",
    "backslash is also used as an escape character in order to represent non-printable characters. To avoid problems,\n",
    "either it has to be escaped itself,  a double backslash or one can also use raw string literals\n",
    "to represent Windows paths. These are string literals that have an `r` prepended to them. In raw string literals\n",
    "the `\\` represents a literal backslash: `r'C:\\users\\Brian'`:\n",
    "\n",
    "For instance, on Windows systems, the two following commands are fully equivalent:\n",
    "\n",
    "```ipython3\n",
    "X = scp.read_omnic(directory='C:\\\\users\\\\Brian')\n",
    "```\n",
    "\n",
    "or\n",
    "\n",
    "```ipython3\n",
    "X = scp.read_omnic(directory=r'C:\\users\\Brian')\n",
    "```\n",
    "\n",
    "and will open the dialog box at the root directory of the `C:` drive.\n",
    "\n",
    "You can avoid using the form `\\\\` or the use of raw strings by using conventional slash `/`. In python\n",
    "they play the path separator role, as well in Windows than in other unix-based system (Linux, OSX, ...)\n",
    "\n",
    "```ipython3\n",
    "X = scp.read_omnic(directory='C:/users/Brian')\n",
    "```"
   ]
  },
  {
   "cell_type": "markdown",
   "id": "c1c0a30f",
   "metadata": {},
   "source": [
    "If a `filename` is passed in argument, like here:\n",
    "```ipython3\n",
    "X = scp.read_omnic('wodger.spg', directory='C:/')\n",
    "```\n",
    "then SpectroChemPy will attempt opening a file named `wodger.spg` supposedly located in `C:\\`.\n",
    "\n",
    "\n",
    "Imagine now that the file of interest is actually located in `C:\\users\\Brian\\s\\Life`. The following\n",
    "commands are all equivalent and will allow opening the file:\n",
    "\n",
    "- using only the full pathname of the file:\n",
    "```ipython3\n",
    "X = scp.read_omnic('C:/users/Brian/s/Life/wodger.spg')\n",
    "```\n",
    "\n",
    "- or using a combination of directory and file pathnames:\n",
    "```ipython3\n",
    "X = scp.read_omnic('wodger.spg', directory='C:/users/Brian/s/Life'\n",
    "X = scp.read_omnic('Life/wodger.spg', directory='C:/users/Brian/s')\n",
    "```\n",
    "\n",
    "- etc..."
   ]
  },
  {
   "cell_type": "markdown",
   "id": "cdaa6015",
   "metadata": {},
   "source": [
    "### A good practice: use relative paths\n",
    "\n",
    "The above directives require explicitly writing the absolute pathnames, which are virtually always computer specific.\n",
    "If, for instance, Brian has a project organised in a folder (`s`) with a directory dedicated to input data (`Life`)\n",
    "and a notebook for preprocessing (`welease.ipynb`) as illustrate below:\n",
    "\n",
    "```\n",
    "C:\\users\n",
    "|    +-- Brian\n",
    "|    |    +-- s\n",
    "|    |    |   +-- Life\n",
    "|    |    |   |   +-- wodger.spg\n",
    "|    |    |   +-- welease.ipynb\n",
    "\n",
    "```\n",
    "\n",
    "Then running this project in John's Linux computer (e.g. in `\\home\\john\\s_copy`) will certainly result in execution\n",
    "errors if absolute paths are used in the notebook:\n",
    "```text\n",
    "OSError: Can't find this filename C:\\users\\Brian\\s\\life\\wodger.spg\n",
    "```\n",
    "In this respect, a good practice consists in using relative pathnames in scripts and notebooks.\n",
    "Fortunately, SpectroChemPy readers use relative paths. If the given path is not absolute, then SpectroChemPy will\n",
    "search in the current directory. Hence the opening of the `spg` file from scripts in `welease.ipynb` can be made\n",
    "by the command:\n",
    "```ipython3\n",
    "X = scp.read_omnic('Life/wodger.spg')\n",
    "```\n",
    "or:\n",
    "```ipython3\n",
    "X = scp.read_omnic('wodger.spg', directory='Life')\n",
    "```\n",
    "\n",
    "### Good practice: use `os` or `pathlib` modules\n",
    "\n",
    "In python, working with pathnames is classically done with dedicated modules such as `os` or `pathlib` python modules.\n",
    "With `os` we mention the following methods that can be particularly useful:\n",
    "\n",
    "```ipython3\n",
    "import os\n",
    "os.getcwd()              # returns the absolute path of the current working directory preferences.datadir\n",
    "os.path.expanduser(\"~\")  # returns the home directory of the user\n",
    "os.path.join('path1','path2','path3', ...)   # intelligently concatenates path components\n",
    "                                             # using the system seprator (`/`or `\\\\`)\n",
    "```\n",
    "\n",
    "Using `Pathlib` is even simpler:\n",
    "```ipython3\n",
    "from pathlib import Path\n",
    "Path.cwd()               # returns the absolute path of the current working directory\n",
    "Path.home()              # returns the home directory of the user\n",
    "Path('path1') / 'path2' / 'path3' / '...'   # intelligently concatenates path components\n",
    "```\n",
    "\n",
    " The interested readers will find more details on the use of these modules here:\n",
    "- [os - Miscellaneous operating system interfaces](https://docs.python.org/3/library/os.html)\n",
    "- [pathlib — Object-oriented filesystem paths](https://docs.python.org/3/library/pathlib.html)\n",
    "\n",
    "## Another default search directory: `datadir`\n",
    "\n",
    "Spectrochempy also comes with the definition of a second default directory path where to look at the data:\n",
    "the `datadir` directory. It is defined in the variable `preferences.datadir` which is imported at the same\n",
    "time as spectrochempy. By default, `datadir` points in the 'scp_data\\testdata' folder of SpectroChemPy:"
   ]
  },
  {
   "cell_type": "code",
   "execution_count": 5,
   "id": "49edfa76",
   "metadata": {
    "execution": {
     "iopub.execute_input": "2021-11-12T15:55:17.146992Z",
     "iopub.status.busy": "2021-11-12T15:55:17.142765Z",
     "iopub.status.idle": "2021-11-12T15:55:17.149323Z",
     "shell.execute_reply": "2021-11-12T15:55:17.149756Z"
    }
   },
   "outputs": [
    {
     "data": {
      "text/plain": [
       "PosixPath('/usr/share/miniconda/envs/scpy3.9/share/spectrochempy_data/testdata')"
      ]
     },
     "execution_count": 5,
     "metadata": {},
     "output_type": "execute_result"
    }
   ],
   "source": [
    "DATADIR = scp.preferences.datadir\n",
    "DATADIR"
   ]
  },
  {
   "cell_type": "markdown",
   "id": "7757c3b4",
   "metadata": {},
   "source": [
    "DATADIR is already a pathlib object and so can be used easily"
   ]
  },
  {
   "cell_type": "code",
   "execution_count": 6,
   "id": "8aeb3e2c",
   "metadata": {
    "execution": {
     "iopub.execute_input": "2021-11-12T15:55:17.155294Z",
     "iopub.status.busy": "2021-11-12T15:55:17.152050Z",
     "iopub.status.idle": "2021-11-12T15:55:17.569611Z",
     "shell.execute_reply": "2021-11-12T15:55:17.570036Z"
    }
   },
   "outputs": [],
   "source": [
    "X = scp.read_omnic(DATADIR / \"wodger.spg\")"
   ]
  },
  {
   "cell_type": "markdown",
   "id": "77ff95d3",
   "metadata": {},
   "source": [
    "It can be set to another pathname *permanently* (i.e., even after computer restart) by a new assignment:\n",
    "\n",
    "```ipython3\n",
    "scp.preferences.datadir = 'C:/users/Brian/s/Life'\n",
    "```\n",
    "\n",
    "This will change the default value in the SCPy preference file located in the hidden folder\n",
    "`.spectrochempy/` at the root of the user home directory.\n",
    "\n",
    "Finally, by default, the import functions used in Sepctrochempy will search the data files using this order of\n",
    "precedence:\n",
    "\n",
    "   1. try absolute path\n",
    "   2. try in current working directory\n",
    "   3. try in `datadir`\n",
    "   4. if none of these works: generate an OSError (file or directory not found)\n"
   ]
  },
  {
   "cell_type": "markdown",
   "id": "1b09bf45",
   "metadata": {},
   "source": [
    "## File selector widget"
   ]
  },
  {
   "cell_type": "markdown",
   "id": "26e6beda",
   "metadata": {},
   "source": [
    "A widget is provided to help with the selection of file names or directory.\n"
   ]
  },
  {
   "cell_type": "code",
   "execution_count": 7,
   "id": "b30f48bc",
   "metadata": {
    "execution": {
     "iopub.execute_input": "2021-11-12T15:55:17.597415Z",
     "iopub.status.busy": "2021-11-12T15:55:17.578381Z",
     "iopub.status.idle": "2021-11-12T15:55:17.625466Z",
     "shell.execute_reply": "2021-11-12T15:55:17.617203Z"
    }
   },
   "outputs": [
    {
     "data": {
      "application/vnd.jupyter.widget-view+json": {
       "model_id": "e3da381b14774312b4c8c344e945db0e",
       "version_major": 2,
       "version_minor": 0
      },
      "text/plain": [
       "To get widget to display, you must install ipy/jupyter-widgets, run in a notebook and, in the case of jupyter-lab, install the jlab extension."
      ]
     },
     "metadata": {},
     "output_type": "display_data"
    }
   ],
   "source": [
    "datadir = scp.preferences.datadir\n",
    "fs = scp.FileSelector(path=datadir, filters=[\"spg\", \"spa\"])\n",
    "fs"
   ]
  },
  {
   "cell_type": "markdown",
   "id": "ad20294a",
   "metadata": {},
   "source": [
    "After validation of the selection, one can read the path and name of the selected files."
   ]
  },
  {
   "cell_type": "code",
   "execution_count": 8,
   "id": "33e2aad5",
   "metadata": {
    "execution": {
     "iopub.execute_input": "2021-11-12T15:55:17.631304Z",
     "iopub.status.busy": "2021-11-12T15:55:17.630797Z",
     "iopub.status.idle": "2021-11-12T15:55:17.633527Z",
     "shell.execute_reply": "2021-11-12T15:55:17.633925Z"
    }
   },
   "outputs": [
    {
     "data": {
      "text/plain": [
       "(None,\n",
       " PosixPath('/usr/share/miniconda/envs/scpy3.9/share/spectrochempy_data/testdata'),\n",
       " PosixPath('/usr/share/miniconda/envs/scpy3.9/share/spectrochempy_data/testdata'))"
      ]
     },
     "execution_count": 8,
     "metadata": {},
     "output_type": "execute_result"
    }
   ],
   "source": [
    "fs.value, fs.path, fs.fullpath"
   ]
  }
 ],
 "metadata": {
  "jupytext": {
   "encoding": "# -*- coding: utf-8 -*-",
   "formats": "ipynb,py:percent",
   "notebook_metadata_filter": "all"
  },
  "kernelspec": {
   "display_name": "Python 3",
   "language": "python",
   "name": "python3"
  },
  "language_info": {
   "codemirror_mode": {
    "name": "ipython",
    "version": 3
   },
   "file_extension": ".py",
   "mimetype": "text/x-python",
   "name": "python",
   "nbconvert_exporter": "python",
   "pygments_lexer": "ipython3",
   "version": "3.9.7"
  },
  "widgets": {
   "application/vnd.jupyter.widget-state+json": {
    "state": {
     "183a6bd20db74d51a4a3943fa97bdd00": {
      "model_module": "@jupyter-widgets/controls",
      "model_module_version": "1.5.0",
      "model_name": "ButtonModel",
      "state": {
       "_dom_classes": [],
       "_model_module": "@jupyter-widgets/controls",
       "_model_module_version": "1.5.0",
       "_model_name": "ButtonModel",
       "_view_count": null,
       "_view_module": "@jupyter-widgets/controls",
       "_view_module_version": "1.5.0",
       "_view_name": "ButtonView",
       "button_style": "",
       "description": "",
       "disabled": false,
       "icon": "chevron-left",
       "layout": "IPY_MODEL_ef351a2430c14d26a5d079f62ae4ceda",
       "style": "IPY_MODEL_8d001f68dbe44b7da714daaba9b023d8",
       "tooltip": "Parent"
      }
     },
     "2a8b5476bf70486cb25362d300ea63e8": {
      "model_module": "@jupyter-widgets/base",
      "model_module_version": "1.2.0",
      "model_name": "LayoutModel",
      "state": {
       "_model_module": "@jupyter-widgets/base",
       "_model_module_version": "1.2.0",
       "_model_name": "LayoutModel",
       "_view_count": null,
       "_view_module": "@jupyter-widgets/base",
       "_view_module_version": "1.2.0",
       "_view_name": "LayoutView",
       "align_content": null,
       "align_items": null,
       "align_self": null,
       "border": null,
       "bottom": null,
       "display": null,
       "flex": null,
       "flex_flow": null,
       "grid_area": null,
       "grid_auto_columns": null,
       "grid_auto_flow": null,
       "grid_auto_rows": null,
       "grid_column": null,
       "grid_gap": null,
       "grid_row": null,
       "grid_template_areas": null,
       "grid_template_columns": null,
       "grid_template_rows": null,
       "height": null,
       "justify_content": null,
       "justify_items": null,
       "left": null,
       "margin": null,
       "max_height": null,
       "max_width": null,
       "min_height": null,
       "min_width": null,
       "object_fit": null,
       "object_position": null,
       "order": null,
       "overflow": null,
       "overflow_x": null,
       "overflow_y": null,
       "padding": null,
       "right": null,
       "top": null,
       "visibility": null,
       "width": null
      }
     },
     "37bf00ccc4fb4130985ffd9e5f0c9d31": {
      "model_module": "@jupyter-widgets/controls",
      "model_module_version": "1.5.0",
      "model_name": "HBoxModel",
      "state": {
       "_dom_classes": [],
       "_model_module": "@jupyter-widgets/controls",
       "_model_module_version": "1.5.0",
       "_model_name": "HBoxModel",
       "_view_count": null,
       "_view_module": "@jupyter-widgets/controls",
       "_view_module_version": "1.5.0",
       "_view_name": "HBoxView",
       "box_style": "",
       "children": [
        "IPY_MODEL_d4cd5c2a8cbc4220963083f57a96b55e",
        "IPY_MODEL_f0bb02155cd04698ba07c477cecc53ee"
       ],
       "layout": "IPY_MODEL_2a8b5476bf70486cb25362d300ea63e8"
      }
     },
     "4c01439113754108928e247957974919": {
      "model_module": "@jupyter-widgets/base",
      "model_module_version": "1.2.0",
      "model_name": "LayoutModel",
      "state": {
       "_model_module": "@jupyter-widgets/base",
       "_model_module_version": "1.2.0",
       "_model_name": "LayoutModel",
       "_view_count": null,
       "_view_module": "@jupyter-widgets/base",
       "_view_module_version": "1.2.0",
       "_view_name": "LayoutView",
       "align_content": null,
       "align_items": null,
       "align_self": null,
       "border": null,
       "bottom": null,
       "display": null,
       "flex": "100 1 auto",
       "flex_flow": null,
       "grid_area": null,
       "grid_auto_columns": null,
       "grid_auto_flow": null,
       "grid_auto_rows": null,
       "grid_column": null,
       "grid_gap": null,
       "grid_row": null,
       "grid_template_areas": null,
       "grid_template_columns": null,
       "grid_template_rows": null,
       "height": null,
       "justify_content": null,
       "justify_items": null,
       "left": null,
       "margin": null,
       "max_height": null,
       "max_width": null,
       "min_height": null,
       "min_width": null,
       "object_fit": null,
       "object_position": null,
       "order": null,
       "overflow": null,
       "overflow_x": null,
       "overflow_y": null,
       "padding": null,
       "right": null,
       "top": null,
       "visibility": null,
       "width": "auto"
      }
     },
     "502317f7a7f5491a9ee8f4189753f397": {
      "model_module": "@jupyter-widgets/base",
      "model_module_version": "1.2.0",
      "model_name": "LayoutModel",
      "state": {
       "_model_module": "@jupyter-widgets/base",
       "_model_module_version": "1.2.0",
       "_model_name": "LayoutModel",
       "_view_count": null,
       "_view_module": "@jupyter-widgets/base",
       "_view_module_version": "1.2.0",
       "_view_name": "LayoutView",
       "align_content": null,
       "align_items": null,
       "align_self": null,
       "border": null,
       "bottom": null,
       "display": null,
       "flex": null,
       "flex_flow": null,
       "grid_area": null,
       "grid_auto_columns": null,
       "grid_auto_flow": null,
       "grid_auto_rows": null,
       "grid_column": null,
       "grid_gap": null,
       "grid_row": null,
       "grid_template_areas": null,
       "grid_template_columns": null,
       "grid_template_rows": null,
       "height": null,
       "justify_content": null,
       "justify_items": null,
       "left": null,
       "margin": null,
       "max_height": null,
       "max_width": null,
       "min_height": null,
       "min_width": null,
       "object_fit": null,
       "object_position": null,
       "order": null,
       "overflow": null,
       "overflow_x": null,
       "overflow_y": null,
       "padding": null,
       "right": null,
       "top": null,
       "visibility": null,
       "width": null
      }
     },
     "518c1e7f5b7b4bb985c8bb1822373f27": {
      "model_module": "@jupyter-widgets/controls",
      "model_module_version": "1.5.0",
      "model_name": "LabelModel",
      "state": {
       "_dom_classes": [],
       "_model_module": "@jupyter-widgets/controls",
       "_model_module_version": "1.5.0",
       "_model_name": "LabelModel",
       "_view_count": null,
       "_view_module": "@jupyter-widgets/controls",
       "_view_module_version": "1.5.0",
       "_view_name": "LabelView",
       "description": "",
       "description_tooltip": null,
       "layout": "IPY_MODEL_4c01439113754108928e247957974919",
       "placeholder": "​",
       "style": "IPY_MODEL_8cdf420ce65f45dc897b2fd9f7a06058",
       "value": "../testdata"
      }
     },
     "5850b83047104135a1ceccde30e5e3cb": {
      "model_module": "@jupyter-widgets/controls",
      "model_module_version": "1.5.0",
      "model_name": "ButtonStyleModel",
      "state": {
       "_model_module": "@jupyter-widgets/controls",
       "_model_module_version": "1.5.0",
       "_model_name": "ButtonStyleModel",
       "_view_count": null,
       "_view_module": "@jupyter-widgets/base",
       "_view_module_version": "1.2.0",
       "_view_name": "StyleView",
       "button_color": null,
       "font_weight": ""
      }
     },
     "5c42ce5a551941cdb5a329b3756e2ce0": {
      "model_module": "@jupyter-widgets/controls",
      "model_module_version": "1.5.0",
      "model_name": "DescriptionStyleModel",
      "state": {
       "_model_module": "@jupyter-widgets/controls",
       "_model_module_version": "1.5.0",
       "_model_name": "DescriptionStyleModel",
       "_view_count": null,
       "_view_module": "@jupyter-widgets/base",
       "_view_module_version": "1.2.0",
       "_view_name": "StyleView",
       "description_width": ""
      }
     },
     "8cdf420ce65f45dc897b2fd9f7a06058": {
      "model_module": "@jupyter-widgets/controls",
      "model_module_version": "1.5.0",
      "model_name": "DescriptionStyleModel",
      "state": {
       "_model_module": "@jupyter-widgets/controls",
       "_model_module_version": "1.5.0",
       "_model_name": "DescriptionStyleModel",
       "_view_count": null,
       "_view_module": "@jupyter-widgets/base",
       "_view_module_version": "1.2.0",
       "_view_name": "StyleView",
       "description_width": ""
      }
     },
     "8d001f68dbe44b7da714daaba9b023d8": {
      "model_module": "@jupyter-widgets/controls",
      "model_module_version": "1.5.0",
      "model_name": "ButtonStyleModel",
      "state": {
       "_model_module": "@jupyter-widgets/controls",
       "_model_module_version": "1.5.0",
       "_model_name": "ButtonStyleModel",
       "_view_count": null,
       "_view_module": "@jupyter-widgets/base",
       "_view_module_version": "1.2.0",
       "_view_name": "StyleView",
       "button_color": null,
       "font_weight": ""
      }
     },
     "96d97332f98a4b6aae212b7b5be281cd": {
      "model_module": "@jupyter-widgets/controls",
      "model_module_version": "1.5.0",
      "model_name": "ButtonModel",
      "state": {
       "_dom_classes": [],
       "_model_module": "@jupyter-widgets/controls",
       "_model_module_version": "1.5.0",
       "_model_name": "ButtonModel",
       "_view_count": null,
       "_view_module": "@jupyter-widgets/controls",
       "_view_module_version": "1.5.0",
       "_view_name": "ButtonView",
       "button_style": "",
       "description": "",
       "disabled": false,
       "icon": "check",
       "layout": "IPY_MODEL_b88c03856a0940558a7fc7c24d2a57a0",
       "style": "IPY_MODEL_5850b83047104135a1ceccde30e5e3cb",
       "tooltip": "OK"
      }
     },
     "9eaa7f1197a646b5b49c66ffd778821d": {
      "model_module": "@jupyter-widgets/base",
      "model_module_version": "1.2.0",
      "model_name": "LayoutModel",
      "state": {
       "_model_module": "@jupyter-widgets/base",
       "_model_module_version": "1.2.0",
       "_model_name": "LayoutModel",
       "_view_count": null,
       "_view_module": "@jupyter-widgets/base",
       "_view_module_version": "1.2.0",
       "_view_name": "LayoutView",
       "align_content": null,
       "align_items": null,
       "align_self": null,
       "border": null,
       "bottom": null,
       "display": null,
       "flex": null,
       "flex_flow": null,
       "grid_area": null,
       "grid_auto_columns": null,
       "grid_auto_flow": null,
       "grid_auto_rows": null,
       "grid_column": null,
       "grid_gap": null,
       "grid_row": null,
       "grid_template_areas": null,
       "grid_template_columns": null,
       "grid_template_rows": null,
       "height": null,
       "justify_content": null,
       "justify_items": null,
       "left": null,
       "margin": null,
       "max_height": null,
       "max_width": null,
       "min_height": null,
       "min_width": null,
       "object_fit": null,
       "object_position": null,
       "order": null,
       "overflow": null,
       "overflow_x": null,
       "overflow_y": null,
       "padding": null,
       "right": null,
       "top": null,
       "visibility": null,
       "width": null
      }
     },
     "a3d5862df8a0440181ec84f65aeae6c0": {
      "model_module": "@jupyter-widgets/controls",
      "model_module_version": "1.5.0",
      "model_name": "ButtonStyleModel",
      "state": {
       "_model_module": "@jupyter-widgets/controls",
       "_model_module_version": "1.5.0",
       "_model_name": "ButtonStyleModel",
       "_view_count": null,
       "_view_module": "@jupyter-widgets/base",
       "_view_module_version": "1.2.0",
       "_view_name": "StyleView",
       "button_color": null,
       "font_weight": ""
      }
     },
     "a83e5fc5a2264263ae0177f0e044b035": {
      "model_module": "@jupyter-widgets/base",
      "model_module_version": "1.2.0",
      "model_name": "LayoutModel",
      "state": {
       "_model_module": "@jupyter-widgets/base",
       "_model_module_version": "1.2.0",
       "_model_name": "LayoutModel",
       "_view_count": null,
       "_view_module": "@jupyter-widgets/base",
       "_view_module_version": "1.2.0",
       "_view_name": "LayoutView",
       "align_content": null,
       "align_items": null,
       "align_self": null,
       "border": null,
       "bottom": null,
       "display": null,
       "flex": null,
       "flex_flow": null,
       "grid_area": null,
       "grid_auto_columns": null,
       "grid_auto_flow": null,
       "grid_auto_rows": null,
       "grid_column": null,
       "grid_gap": null,
       "grid_row": null,
       "grid_template_areas": null,
       "grid_template_columns": null,
       "grid_template_rows": null,
       "height": null,
       "justify_content": null,
       "justify_items": null,
       "left": null,
       "margin": null,
       "max_height": null,
       "max_width": null,
       "min_height": null,
       "min_width": null,
       "object_fit": null,
       "object_position": null,
       "order": null,
       "overflow": null,
       "overflow_x": null,
       "overflow_y": null,
       "padding": null,
       "right": null,
       "top": null,
       "visibility": null,
       "width": null
      }
     },
     "ab0f4e302c6f4233b3a9fe2247beacea": {
      "model_module": "@jupyter-widgets/base",
      "model_module_version": "1.2.0",
      "model_name": "LayoutModel",
      "state": {
       "_model_module": "@jupyter-widgets/base",
       "_model_module_version": "1.2.0",
       "_model_name": "LayoutModel",
       "_view_count": null,
       "_view_module": "@jupyter-widgets/base",
       "_view_module_version": "1.2.0",
       "_view_name": "LayoutView",
       "align_content": null,
       "align_items": null,
       "align_self": null,
       "border": null,
       "bottom": null,
       "display": null,
       "flex": null,
       "flex_flow": null,
       "grid_area": null,
       "grid_auto_columns": null,
       "grid_auto_flow": null,
       "grid_auto_rows": null,
       "grid_column": null,
       "grid_gap": null,
       "grid_row": null,
       "grid_template_areas": null,
       "grid_template_columns": null,
       "grid_template_rows": null,
       "height": null,
       "justify_content": null,
       "justify_items": null,
       "left": null,
       "margin": null,
       "max_height": null,
       "max_width": null,
       "min_height": null,
       "min_width": null,
       "object_fit": null,
       "object_position": null,
       "order": null,
       "overflow": null,
       "overflow_x": null,
       "overflow_y": null,
       "padding": null,
       "right": null,
       "top": null,
       "visibility": null,
       "width": null
      }
     },
     "b88c03856a0940558a7fc7c24d2a57a0": {
      "model_module": "@jupyter-widgets/base",
      "model_module_version": "1.2.0",
      "model_name": "LayoutModel",
      "state": {
       "_model_module": "@jupyter-widgets/base",
       "_model_module_version": "1.2.0",
       "_model_name": "LayoutModel",
       "_view_count": null,
       "_view_module": "@jupyter-widgets/base",
       "_view_module_version": "1.2.0",
       "_view_name": "LayoutView",
       "align_content": null,
       "align_items": null,
       "align_self": null,
       "border": null,
       "bottom": null,
       "display": null,
       "flex": null,
       "flex_flow": null,
       "grid_area": null,
       "grid_auto_columns": null,
       "grid_auto_flow": null,
       "grid_auto_rows": null,
       "grid_column": null,
       "grid_gap": null,
       "grid_row": null,
       "grid_template_areas": null,
       "grid_template_columns": null,
       "grid_template_rows": null,
       "height": null,
       "justify_content": null,
       "justify_items": null,
       "left": null,
       "margin": null,
       "max_height": null,
       "max_width": null,
       "min_height": null,
       "min_width": null,
       "object_fit": null,
       "object_position": null,
       "order": null,
       "overflow": null,
       "overflow_x": null,
       "overflow_y": null,
       "padding": null,
       "right": null,
       "top": null,
       "visibility": null,
       "width": "auto"
      }
     },
     "bb6ad4ec15b64ae0b3e7e3d1bf09a148": {
      "model_module": "@jupyter-widgets/controls",
      "model_module_version": "1.5.0",
      "model_name": "ButtonModel",
      "state": {
       "_dom_classes": [],
       "_model_module": "@jupyter-widgets/controls",
       "_model_module_version": "1.5.0",
       "_model_name": "ButtonModel",
       "_view_count": null,
       "_view_module": "@jupyter-widgets/controls",
       "_view_module_version": "1.5.0",
       "_view_name": "ButtonView",
       "button_style": "",
       "description": "",
       "disabled": false,
       "icon": "close",
       "layout": "IPY_MODEL_e51a8535b6a84bdbad3f9b614b7cd976",
       "style": "IPY_MODEL_a3d5862df8a0440181ec84f65aeae6c0",
       "tooltip": "Close Selector"
      }
     },
     "d4cd5c2a8cbc4220963083f57a96b55e": {
      "model_module": "@jupyter-widgets/controls",
      "model_module_version": "1.5.0",
      "model_name": "SelectModel",
      "state": {
       "_dom_classes": [],
       "_model_module": "@jupyter-widgets/controls",
       "_model_module_version": "1.5.0",
       "_model_name": "SelectModel",
       "_options_labels": [
        "agirdata",
        "irdata",
        "matlabdata",
        "msdata",
        "nmrdata",
        "ramandata",
        "wodger.spg"
       ],
       "_view_count": null,
       "_view_module": "@jupyter-widgets/controls",
       "_view_module_version": "1.5.0",
       "_view_name": "SelectView",
       "description": "",
       "description_tooltip": null,
       "disabled": false,
       "index": 0,
       "layout": "IPY_MODEL_ab0f4e302c6f4233b3a9fe2247beacea",
       "rows": 7,
       "style": "IPY_MODEL_5c42ce5a551941cdb5a329b3756e2ce0"
      }
     },
     "dbab0a8b024f448296703e13aea1f987": {
      "model_module": "@jupyter-widgets/controls",
      "model_module_version": "1.5.0",
      "model_name": "BoxModel",
      "state": {
       "_dom_classes": [],
       "_model_module": "@jupyter-widgets/controls",
       "_model_module_version": "1.5.0",
       "_model_name": "BoxModel",
       "_view_count": null,
       "_view_module": "@jupyter-widgets/controls",
       "_view_module_version": "1.5.0",
       "_view_name": "BoxView",
       "box_style": "",
       "children": [
        "IPY_MODEL_183a6bd20db74d51a4a3943fa97bdd00",
        "IPY_MODEL_518c1e7f5b7b4bb985c8bb1822373f27"
       ],
       "layout": "IPY_MODEL_a83e5fc5a2264263ae0177f0e044b035"
      }
     },
     "e3da381b14774312b4c8c344e945db0e": {
      "model_module": "@jupyter-widgets/controls",
      "model_module_version": "1.5.0",
      "model_name": "VBoxModel",
      "state": {
       "_dom_classes": [],
       "_model_module": "@jupyter-widgets/controls",
       "_model_module_version": "1.5.0",
       "_model_name": "VBoxModel",
       "_view_count": null,
       "_view_module": "@jupyter-widgets/controls",
       "_view_module_version": "1.5.0",
       "_view_name": "VBoxView",
       "box_style": "",
       "children": [
        "IPY_MODEL_dbab0a8b024f448296703e13aea1f987",
        "IPY_MODEL_37bf00ccc4fb4130985ffd9e5f0c9d31"
       ],
       "layout": "IPY_MODEL_9eaa7f1197a646b5b49c66ffd778821d"
      }
     },
     "e51a8535b6a84bdbad3f9b614b7cd976": {
      "model_module": "@jupyter-widgets/base",
      "model_module_version": "1.2.0",
      "model_name": "LayoutModel",
      "state": {
       "_model_module": "@jupyter-widgets/base",
       "_model_module_version": "1.2.0",
       "_model_name": "LayoutModel",
       "_view_count": null,
       "_view_module": "@jupyter-widgets/base",
       "_view_module_version": "1.2.0",
       "_view_name": "LayoutView",
       "align_content": null,
       "align_items": null,
       "align_self": null,
       "border": null,
       "bottom": null,
       "display": null,
       "flex": null,
       "flex_flow": null,
       "grid_area": null,
       "grid_auto_columns": null,
       "grid_auto_flow": null,
       "grid_auto_rows": null,
       "grid_column": null,
       "grid_gap": null,
       "grid_row": null,
       "grid_template_areas": null,
       "grid_template_columns": null,
       "grid_template_rows": null,
       "height": null,
       "justify_content": null,
       "justify_items": null,
       "left": null,
       "margin": null,
       "max_height": null,
       "max_width": null,
       "min_height": null,
       "min_width": null,
       "object_fit": null,
       "object_position": null,
       "order": null,
       "overflow": null,
       "overflow_x": null,
       "overflow_y": null,
       "padding": null,
       "right": null,
       "top": null,
       "visibility": null,
       "width": "auto"
      }
     },
     "ef351a2430c14d26a5d079f62ae4ceda": {
      "model_module": "@jupyter-widgets/base",
      "model_module_version": "1.2.0",
      "model_name": "LayoutModel",
      "state": {
       "_model_module": "@jupyter-widgets/base",
       "_model_module_version": "1.2.0",
       "_model_name": "LayoutModel",
       "_view_count": null,
       "_view_module": "@jupyter-widgets/base",
       "_view_module_version": "1.2.0",
       "_view_name": "LayoutView",
       "align_content": null,
       "align_items": null,
       "align_self": null,
       "border": null,
       "bottom": null,
       "display": null,
       "flex": "1 1 auto",
       "flex_flow": null,
       "grid_area": null,
       "grid_auto_columns": null,
       "grid_auto_flow": null,
       "grid_auto_rows": null,
       "grid_column": null,
       "grid_gap": null,
       "grid_row": null,
       "grid_template_areas": null,
       "grid_template_columns": null,
       "grid_template_rows": null,
       "height": null,
       "justify_content": null,
       "justify_items": null,
       "left": null,
       "margin": null,
       "max_height": null,
       "max_width": null,
       "min_height": null,
       "min_width": null,
       "object_fit": null,
       "object_position": null,
       "order": null,
       "overflow": null,
       "overflow_x": null,
       "overflow_y": null,
       "padding": null,
       "right": null,
       "top": null,
       "visibility": null,
       "width": "auto"
      }
     },
     "f0bb02155cd04698ba07c477cecc53ee": {
      "model_module": "@jupyter-widgets/controls",
      "model_module_version": "1.5.0",
      "model_name": "VBoxModel",
      "state": {
       "_dom_classes": [],
       "_model_module": "@jupyter-widgets/controls",
       "_model_module_version": "1.5.0",
       "_model_name": "VBoxModel",
       "_view_count": null,
       "_view_module": "@jupyter-widgets/controls",
       "_view_module_version": "1.5.0",
       "_view_name": "VBoxView",
       "box_style": "",
       "children": [
        "IPY_MODEL_bb6ad4ec15b64ae0b3e7e3d1bf09a148",
        "IPY_MODEL_96d97332f98a4b6aae212b7b5be281cd"
       ],
       "layout": "IPY_MODEL_502317f7a7f5491a9ee8f4189753f397"
      }
     }
    },
    "version_major": 2,
    "version_minor": 0
   }
  }
 },
 "nbformat": 4,
 "nbformat_minor": 5
}
