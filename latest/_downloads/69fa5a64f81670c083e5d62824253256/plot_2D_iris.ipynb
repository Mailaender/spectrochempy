{
  "cells": [
    {
      "cell_type": "code",
      "execution_count": null,
      "metadata": {
        "collapsed": false
      },
      "outputs": [],
      "source": [
        "%matplotlib inline"
      ]
    },
    {
      "cell_type": "markdown",
      "metadata": {},
      "source": [
        "\n2D-IRIS analysis example\n=========================\n\nIn this example, we perform the 2D IRIS analysis of CO adsorption on a sulfide catalyst.\n"
      ]
    },
    {
      "cell_type": "code",
      "execution_count": null,
      "metadata": {
        "collapsed": false
      },
      "outputs": [],
      "source": [
        "import spectrochempy as scp"
      ]
    },
    {
      "cell_type": "markdown",
      "metadata": {},
      "source": [
        "## Uploading dataset\n\n"
      ]
    },
    {
      "cell_type": "code",
      "execution_count": null,
      "metadata": {
        "collapsed": false
      },
      "outputs": [],
      "source": [
        "X = scp.read(\"irdata/CO@Mo_Al2O3.SPG\")"
      ]
    },
    {
      "cell_type": "markdown",
      "metadata": {},
      "source": [
        "``X`` has two coordinates:\n* `wavenumbers` named \"x\"\n* and `timestamps` (*i.e.,* the time of recording) named \"y\".\n\n"
      ]
    },
    {
      "cell_type": "code",
      "execution_count": null,
      "metadata": {
        "collapsed": false
      },
      "outputs": [],
      "source": [
        "print(X.coordset)"
      ]
    },
    {
      "cell_type": "markdown",
      "metadata": {},
      "source": [
        "## Setting new coordinates\n\nThe ``y`` coordinates of the dataset is the acquisition timestamp. However, each spectra has been recorded\nwith a given pressure of CO in the intrared cell.\n\nHence it would be interesting to add pressure coordinates to the ``y`` dimension:\n\n"
      ]
    },
    {
      "cell_type": "code",
      "execution_count": null,
      "metadata": {
        "collapsed": false
      },
      "outputs": [],
      "source": [
        "pressures = [\n    0.00300,\n    0.00400,\n    0.00900,\n    0.01400,\n    0.02100,\n    0.02600,\n    0.03600,\n    0.05100,\n    0.09300,\n    0.15000,\n    0.20300,\n    0.30000,\n    0.40400,\n    0.50300,\n    0.60200,\n    0.70200,\n    0.80100,\n    0.90500,\n    1.00400,\n]\n\nc_pressures = scp.Coord(pressures, title=\"pressure\", units=\"torr\")"
      ]
    },
    {
      "cell_type": "markdown",
      "metadata": {},
      "source": [
        "Now we can set multiple coordinates:\n\n"
      ]
    },
    {
      "cell_type": "code",
      "execution_count": null,
      "metadata": {
        "collapsed": false
      },
      "outputs": [],
      "source": [
        "c_times = X.y.copy()  # the original coordinate\nX.y = [c_times, c_pressures]\nprint(X.y)"
      ]
    },
    {
      "cell_type": "markdown",
      "metadata": {},
      "source": [
        "By default, the current coordinate is the first one (here `c_times`). For example, it will be used by default for\nplotting:\n\n"
      ]
    },
    {
      "cell_type": "code",
      "execution_count": null,
      "metadata": {
        "collapsed": false
      },
      "outputs": [],
      "source": [
        "prefs = X.preferences\nprefs.figure.figsize = (7, 3)\n_ = X.plot(colorbar=True)\n_ = X.plot_map(colorbar=True)"
      ]
    },
    {
      "cell_type": "markdown",
      "metadata": {},
      "source": [
        "To seamlessly work with the second coordinates (pressures), we can change the default coordinate:\n\n"
      ]
    },
    {
      "cell_type": "code",
      "execution_count": null,
      "metadata": {
        "collapsed": false
      },
      "outputs": [],
      "source": [
        "X.y.select(2)  # to select coordinate ``_2``\nX.y.default"
      ]
    },
    {
      "cell_type": "markdown",
      "metadata": {},
      "source": [
        "Let's now plot the spectral range of interest. The default coordinate is now used:\n\n"
      ]
    },
    {
      "cell_type": "code",
      "execution_count": null,
      "metadata": {
        "collapsed": false
      },
      "outputs": [],
      "source": [
        "X_ = X[:, 2250.0:1950.0]\nprint(X_.y.default)\n_ = X_.plot()\n_ = X_.plot_map()"
      ]
    },
    {
      "cell_type": "markdown",
      "metadata": {},
      "source": [
        "## IRIS analysis without regularization\n\n"
      ]
    },
    {
      "cell_type": "markdown",
      "metadata": {},
      "source": [
        "Perform IRIS without regularization (the loglevel can be set to `INFO` to have information on the running process)\n\n"
      ]
    },
    {
      "cell_type": "code",
      "execution_count": null,
      "metadata": {
        "collapsed": false
      },
      "outputs": [],
      "source": [
        "scp.set_loglevel(scp.INFO)\nparam = {\"epsRange\": [-8, -1, 50], \"kernel\": \"langmuir\"}\niris = scp.IRIS(X_, param)"
      ]
    },
    {
      "cell_type": "markdown",
      "metadata": {},
      "source": [
        "Plots the results\n\n"
      ]
    },
    {
      "cell_type": "code",
      "execution_count": null,
      "metadata": {
        "collapsed": false
      },
      "outputs": [],
      "source": [
        "iris.plotdistribution()\n_ = iris.plotmerit()"
      ]
    },
    {
      "cell_type": "markdown",
      "metadata": {},
      "source": [
        "## With regularization and a manual seach\n\n"
      ]
    },
    {
      "cell_type": "markdown",
      "metadata": {},
      "source": [
        "Perform  IRIS with regularization, manual search\n\n"
      ]
    },
    {
      "cell_type": "code",
      "execution_count": null,
      "metadata": {
        "collapsed": false
      },
      "outputs": [],
      "source": [
        "param = {\"epsRange\": [-8, -1, 50], \"lambdaRange\": [-10, 1, 12], \"kernel\": \"langmuir\"}\n\n\niris = scp.IRIS(X_, param)\niris.plotlcurve(title=\"L curve, manual search\")\niris.plotdistribution(-7)\n_ = iris.plotmerit(-7)"
      ]
    },
    {
      "cell_type": "markdown",
      "metadata": {},
      "source": [
        "## Automatic search\n\n"
      ]
    },
    {
      "cell_type": "markdown",
      "metadata": {},
      "source": [
        "Now try an automatic search of the regularization parameter:\n\n"
      ]
    },
    {
      "cell_type": "code",
      "execution_count": null,
      "metadata": {
        "collapsed": false
      },
      "outputs": [],
      "source": [
        "param = {\"epsRange\": [-8, -1, 50], \"lambdaRange\": [-10, 1], \"kernel\": \"langmuir\"}\n\niris = scp.IRIS(X_, param)\niris.plotlcurve(title=\"L curve, automated search\")"
      ]
    },
    {
      "cell_type": "markdown",
      "metadata": {},
      "source": [
        "The data corresponding to the largest curvature of the L-curve\nare at the second last position of output data:\n\n"
      ]
    },
    {
      "cell_type": "code",
      "execution_count": null,
      "metadata": {
        "collapsed": false
      },
      "outputs": [],
      "source": [
        "iris.plotdistribution(-2)\n_ = iris.plotmerit(-2)\n\n\"\"\n# scp.show()  # uncomment to show plot if needed (not necessary in jupyter notebook)"
      ]
    }
  ],
  "metadata": {
    "kernelspec": {
      "display_name": "Python 3",
      "language": "python",
      "name": "python3"
    },
    "language_info": {
      "codemirror_mode": {
        "name": "ipython",
        "version": 3
      },
      "file_extension": ".py",
      "mimetype": "text/x-python",
      "name": "python",
      "nbconvert_exporter": "python",
      "pygments_lexer": "ipython3",
      "version": "3.9.7"
    }
  },
  "nbformat": 4,
  "nbformat_minor": 0
}